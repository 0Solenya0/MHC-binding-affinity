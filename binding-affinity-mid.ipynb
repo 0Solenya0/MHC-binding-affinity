{
 "metadata": {
  "kernelspec": {
   "language": "python",
   "display_name": "Python 3",
   "name": "python3"
  },
  "language_info": {
   "name": "python",
   "version": "3.10.12",
   "mimetype": "text/x-python",
   "codemirror_mode": {
    "name": "ipython",
    "version": 3
   },
   "pygments_lexer": "ipython3",
   "nbconvert_exporter": "python",
   "file_extension": ".py"
  }
 },
 "nbformat_minor": 4,
 "nbformat": 4,
 "cells": [
  {
   "cell_type": "code",
   "source": [
    "!tar -xzf /kaggle/input/task-s/binding_affinity_data.tar.xz\n",
    "!pip install pylcs blosum torcheval --quiet"
   ],
   "metadata": {
    "_uuid": "8f2839f25d086af736a60e9eeb907d3b93b6e0e5",
    "_cell_guid": "b1076dfc-b9ad-4769-8c92-a6c4dae69d19",
    "execution": {
     "iopub.status.busy": "2023-07-23T08:14:52.763998Z",
     "iopub.execute_input": "2023-07-23T08:14:52.764386Z",
     "iopub.status.idle": "2023-07-23T08:15:42.137326Z",
     "shell.execute_reply.started": "2023-07-23T08:14:52.764347Z",
     "shell.execute_reply": "2023-07-23T08:15:42.135937Z"
    },
    "trusted": true,
    "pycharm": {
     "name": "#%%\n"
    }
   },
   "execution_count": 2,
   "outputs": []
  },
  {
   "cell_type": "code",
   "source": [
    "import pandas as pd\n",
    "from torch import nn\n",
    "import matplotlib.pyplot as plt\n",
    "import numpy as np\n",
    "import torch\n",
    "from tqdm import tqdm\n",
    "import pylcs\n",
    "DEVICE = 'cuda'"
   ],
   "metadata": {
    "execution": {
     "iopub.status.busy": "2023-07-23T08:15:42.140919Z",
     "iopub.execute_input": "2023-07-23T08:15:42.141325Z",
     "iopub.status.idle": "2023-07-23T08:15:44.871632Z",
     "shell.execute_reply.started": "2023-07-23T08:15:42.141293Z",
     "shell.execute_reply": "2023-07-23T08:15:44.870569Z"
    },
    "trusted": true,
    "pycharm": {
     "name": "#%%\n"
    }
   },
   "execution_count": 3,
   "outputs": []
  },
  {
   "cell_type": "code",
   "source": [
    "df = pd.read_csv('/kaggle/working/binding_affinity_data.csv')\n",
    "df = df[df['MHC_sequence'].apply(len) > 300]\n",
    "df.reset_index(inplace=True)\n",
    "\n",
    "seqs = df['MHC_sequence'].unique().tolist()\n",
    "mhc_type_to_seq = {df['MHC_type'][i]: df['MHC_sequence'][i] for i in range(len(df))}\n",
    "mhc_types = [t for t, seq in mhc_type_to_seq.items()]\n",
    "mhc_type_to_idx = {t: i for i, t in enumerate(mhc_types)}"
   ],
   "metadata": {
    "execution": {
     "iopub.status.busy": "2023-07-23T08:15:44.873481Z",
     "iopub.execute_input": "2023-07-23T08:15:44.874128Z",
     "iopub.status.idle": "2023-07-23T08:16:25.360873Z",
     "shell.execute_reply.started": "2023-07-23T08:15:44.874092Z",
     "shell.execute_reply": "2023-07-23T08:16:25.359812Z"
    },
    "trusted": true,
    "pycharm": {
     "name": "#%%\n"
    }
   },
   "execution_count": 4,
   "outputs": []
  },
  {
   "cell_type": "code",
   "source": [
    "amino_acids = list(sorted(set(''.join(df['peptide_sequence'].tolist())))) + ['-', '*']\n",
    "aa_to_idx = {aa: i for i, aa in enumerate(amino_acids)}\n",
    "START_TOKEN = aa_to_idx['*']\n",
    "PEPTIDE_LEN = 15\n",
    "def encode_peptide(peptide_str):\n",
    "    return [START_TOKEN] + [aa_to_idx[peptide_str[i]] if i < len(peptide_str) else aa_to_idx['-']  for i in range(PEPTIDE_LEN - 1)]"
   ],
   "metadata": {
    "execution": {
     "iopub.status.busy": "2023-07-23T08:16:25.363139Z",
     "iopub.execute_input": "2023-07-23T08:16:25.363429Z",
     "iopub.status.idle": "2023-07-23T08:16:25.676904Z",
     "shell.execute_reply.started": "2023-07-23T08:16:25.363403Z",
     "shell.execute_reply": "2023-07-23T08:16:25.675649Z"
    },
    "trusted": true,
    "pycharm": {
     "name": "#%%\n"
    }
   },
   "execution_count": 5,
   "outputs": []
  },
  {
   "cell_type": "code",
   "source": [
    "from sklearn.model_selection import train_test_split\n",
    "from torch.utils.data import TensorDataset\n",
    "from torch.utils.data import DataLoader\n",
    "\n",
    "X_pep = torch.tensor(np.stack(df['peptide_sequence'].apply(lambda t: np.array(encode_peptide(t))).to_numpy()), device=DEVICE)\n",
    "X_tmhc = torch.tensor(df['MHC_type'].apply(lambda t: mhc_type_to_idx[t]).to_numpy(), device=DEVICE)\n",
    "Y = torch.tensor(df['label'].to_numpy(), device=DEVICE)\n",
    "\n",
    "train_idx, valid_idx = train_test_split(\n",
    "    np.arange(len(df)), \n",
    "    test_size=0.2, \n",
    "    shuffle=True, \n",
    "    stratify=df.apply(lambda x: mhc_type_to_idx[x['MHC_type']] * 2 + x['label'], axis=1).to_numpy()\n",
    ")"
   ],
   "metadata": {
    "execution": {
     "iopub.status.busy": "2023-07-23T08:16:25.678379Z",
     "iopub.execute_input": "2023-07-23T08:16:25.678784Z",
     "iopub.status.idle": "2023-07-23T08:17:12.959414Z",
     "shell.execute_reply.started": "2023-07-23T08:16:25.678747Z",
     "shell.execute_reply": "2023-07-23T08:17:12.958283Z"
    },
    "trusted": true,
    "pycharm": {
     "name": "#%%\n"
    }
   },
   "execution_count": 6,
   "outputs": [
    {
     "name": "stderr",
     "text": "/opt/conda/lib/python3.10/site-packages/scipy/__init__.py:146: UserWarning: A NumPy version >=1.16.5 and <1.23.0 is required for this version of SciPy (detected version 1.23.5\n  warnings.warn(f\"A NumPy version >={np_minversion} and <{np_maxversion}\"\n",
     "output_type": "stream"
    }
   ]
  },
  {
   "cell_type": "code",
   "source": [
    "BATCH_SIZE = 1024\n",
    "\n",
    "training_data = TensorDataset(X_pep[train_idx], X_tmhc[train_idx], Y[train_idx])\n",
    "val_data = TensorDataset(X_pep[valid_idx], X_tmhc[valid_idx], Y[valid_idx])\n",
    "\n",
    "train_dataloader = DataLoader(training_data, batch_size=BATCH_SIZE, shuffle=True)\n",
    "val_dataloader = DataLoader(val_data, batch_size=BATCH_SIZE, shuffle=False)"
   ],
   "metadata": {
    "execution": {
     "iopub.status.busy": "2023-07-23T08:17:12.964491Z",
     "iopub.execute_input": "2023-07-23T08:17:12.966750Z",
     "iopub.status.idle": "2023-07-23T08:17:13.001906Z",
     "shell.execute_reply.started": "2023-07-23T08:17:12.966715Z",
     "shell.execute_reply": "2023-07-23T08:17:13.001034Z"
    },
    "trusted": true,
    "pycharm": {
     "name": "#%%\n"
    }
   },
   "execution_count": 7,
   "outputs": []
  },
  {
   "cell_type": "code",
   "source": [
    "import math\n",
    "class PositionalEncoding(nn.Module):\n",
    "\n",
    "    def __init__(self, d_model, max_len):\n",
    "        super().__init__()\n",
    "\n",
    "        position = torch.arange(max_len).unsqueeze(1)\n",
    "        div_term = torch.exp(torch.arange(0, d_model, 2) * (-math.log(10000.0) / d_model))\n",
    "        pe = torch.zeros(max_len, 1, d_model)\n",
    "        pe[:, 0, 0::2] = torch.sin(position * div_term)\n",
    "        pe[:, 0, 1::2] = torch.cos(position * div_term)\n",
    "        self.register_buffer('pe', pe.squeeze(1))\n",
    "\n",
    "    def forward(self, x):\n",
    "        x = x + self.pe[:x.size(1)].unsqueeze(0)\n",
    "        return x\n",
    "\n",
    "class Block(nn.Module):\n",
    "    def __init__(self, embed_dim=32, num_heads=4, *args, **kwargs):\n",
    "        super(Block, self).__init__()\n",
    "        self.ln_1 = nn.LayerNorm(embed_dim)\n",
    "\n",
    "        self.kw, self.qw, self.vw = nn.Linear(embed_dim, embed_dim), nn.Linear(embed_dim, embed_dim), nn.Linear(embed_dim, embed_dim)\n",
    "        self.attn = nn.MultiheadAttention(embed_dim, num_heads, batch_first=True)\n",
    "\n",
    "        self.ln_2 = nn.LayerNorm(embed_dim)\n",
    "\n",
    "        self.c_fc    = nn.Linear(embed_dim, 4 * embed_dim)\n",
    "        self.gelu    = nn.GELU()\n",
    "        self.c_proj  = nn.Linear(4 * embed_dim, embed_dim)\n",
    "        self.dropout = nn.Dropout(0)\n",
    "        \n",
    "    def forward(self, x, return_weights=False):\n",
    "        x = self.ln_1(x)\n",
    "        a, w = self.attn(self.qw(x), self.kw(x), self.vw(x))\n",
    "        x = x + a\n",
    "        x = self.ln_2(x)\n",
    "        x = x + self.dropout(self.c_proj(self.gelu(self.c_fc(x))))\n",
    "        if return_weights:\n",
    "            return x, w\n",
    "        return x\n",
    "    \n",
    "class BaseModel(nn.Module):\n",
    "    def __init__(self):\n",
    "        super(BaseModel, self).__init__()\n",
    "        EMB = 32\n",
    "        self.pep = nn.Sequential(\n",
    "            nn.Embedding(len(amino_acids), EMB), # .from_pretrained(bl_embedding),\n",
    "            PositionalEncoding(EMB, max_len=PEPTIDE_LEN),\n",
    "            nn.Tanh(),\n",
    "            *[Block(embed_dim=EMB, num_heads=4) for i in range(3)],\n",
    "        )\n",
    "        LNS = 10\n",
    "        self.head = nn.Sequential(\n",
    "            nn.Linear(EMB, LNS),\n",
    "            nn.Sigmoid()\n",
    "        )\n",
    "        self.mhc = nn.Sequential(\n",
    "            nn.Embedding(len(mhc_types), LNS),\n",
    "            nn.Softmax(dim=-1)\n",
    "        )\n",
    "        with torch.no_grad():\n",
    "            self.mhc[0].weight /= 10\n",
    "    \n",
    "    def forward(self, x, x_mhc):\n",
    "        x = self.pep(x)[:, 0, :].squeeze(1)  # peptide representation\n",
    "        x = self.head(x)\n",
    "        cl = self.mhc(x_mhc)\n",
    "        return (cl * x).sum(dim=-1, keepdim=True)\n",
    "\n",
    "model = BaseModel().to(DEVICE)\n",
    "print(sum(p.numel() for p in model.parameters() if p.requires_grad))\n",
    "loss_fn = nn.BCELoss(reduction='none')\n",
    "# optimizer = torch.optim.AdamW(model.parameters())\n",
    "from torch.optim.lr_scheduler import ReduceLROnPlateau\n",
    "optimizer = torch.optim.Adam(model.parameters())\n",
    "scheduler = torch.optim.lr_scheduler.CosineAnnealingWarmRestarts(optimizer, 10, 1, verbose=True)\n",
    "# scheduler = ReduceLROnPlateau(optimizer, 'max', patience=3, verbose=True)"
   ],
   "metadata": {
    "execution": {
     "iopub.status.busy": "2023-07-23T13:04:14.353917Z",
     "iopub.execute_input": "2023-07-23T13:04:14.354316Z",
     "iopub.status.idle": "2023-07-23T13:04:14.386474Z",
     "shell.execute_reply.started": "2023-07-23T13:04:14.354284Z",
     "shell.execute_reply": "2023-07-23T13:04:14.385352Z"
    },
    "trusted": true,
    "pycharm": {
     "name": "#%%\n"
    }
   },
   "execution_count": 122,
   "outputs": [
    {
     "name": "stdout",
     "text": "49710\nEpoch 00000: adjusting learning rate of group 0 to 1.0000e-03.\n",
     "output_type": "stream"
    }
   ]
  },
  {
   "cell_type": "code",
   "source": [
    "# visualize different mhc embeddings\n",
    "with torch.no_grad():\n",
    "    plt.imshow(\n",
    "        model.mhc(torch.tensor([[i for i in range(len(mhc_types))]]).cuda()).squeeze(0).cpu()\n",
    "    )"
   ],
   "metadata": {
    "execution": {
     "iopub.status.busy": "2023-07-23T11:03:20.299710Z",
     "iopub.execute_input": "2023-07-23T11:03:20.300174Z",
     "iopub.status.idle": "2023-07-23T11:03:20.510868Z",
     "shell.execute_reply.started": "2023-07-23T11:03:20.300127Z",
     "shell.execute_reply": "2023-07-23T11:03:20.509887Z"
    },
    "jupyter": {
     "source_hidden": true,
     "outputs_hidden": true
    },
    "collapsed": true,
    "trusted": true,
    "pycharm": {
     "name": "#%%\n",
     "is_executing": true
    }
   },
   "execution_count": null,
   "outputs": []
  },
  {
   "cell_type": "code",
   "source": [
    "from torcheval.metrics.functional import binary_f1_score, binary_precision, binary_recall, binary_auroc\n",
    "\n",
    "def val_model(model, dataloader):\n",
    "    model.eval()\n",
    "    val_loss = 0\n",
    "    results = []\n",
    "    targets = []\n",
    "    with torch.no_grad():\n",
    "        for x_pep, x_tmhc, target in dataloader:\n",
    "            res = model(x_pep, x_tmhc)\n",
    "            results.append(res)\n",
    "            targets.append(target)\n",
    "            val_loss += (loss_fn(res.reshape(-1), target.reshape(-1).float())).sum().item() # * class_w[target]).sum().item()\n",
    "    \n",
    "    res = torch.concat(results).reshape(-1)\n",
    "    target = torch.concat(targets)\n",
    "    accuracy = (res.reshape(-1).round() == target.reshape(-1)).float().mean().item()\n",
    "    val_loss /= len(val_dataloader.dataset)\n",
    "    return val_loss, accuracy, binary_auroc(res, target).item(), binary_precision(res, target).item(), binary_recall(res, target).item(), binary_f1_score(res, target).item()\n",
    "# binary_f1_score(res, target).item(), binary_precision(res, target).item(), binary_recall(res, target).item()"
   ],
   "metadata": {
    "execution": {
     "iopub.status.busy": "2023-07-23T11:04:23.615853Z",
     "iopub.execute_input": "2023-07-23T11:04:23.616549Z",
     "iopub.status.idle": "2023-07-23T11:04:23.625828Z",
     "shell.execute_reply.started": "2023-07-23T11:04:23.616514Z",
     "shell.execute_reply": "2023-07-23T11:04:23.624585Z"
    },
    "jupyter": {
     "source_hidden": true
    },
    "trusted": true,
    "pycharm": {
     "name": "#%%\n"
    }
   },
   "execution_count": 106,
   "outputs": []
  },
  {
   "cell_type": "code",
   "source": [
    "running_loss = []\n",
    "running_val_loss = []\n",
    "running_val_loss_idx = []\n",
    "running_acc = []\n",
    "running_auroc = []\n",
    "running_percision = []\n",
    "running_recall = []\n",
    "running_f1 = []\n",
    "upds = 0"
   ],
   "metadata": {
    "execution": {
     "iopub.status.busy": "2023-07-23T13:04:18.016138Z",
     "iopub.execute_input": "2023-07-23T13:04:18.017109Z",
     "iopub.status.idle": "2023-07-23T13:04:18.025151Z",
     "shell.execute_reply.started": "2023-07-23T13:04:18.017077Z",
     "shell.execute_reply": "2023-07-23T13:04:18.024203Z"
    },
    "trusted": true,
    "pycharm": {
     "name": "#%%\n"
    }
   },
   "execution_count": 123,
   "outputs": []
  },
  {
   "cell_type": "code",
   "source": [
    "epochs = 90\n",
    "for i in range(epochs):\n",
    "    last_auroc = 0\n",
    "    for x_pep, x_tmhc, target in tqdm(train_dataloader):\n",
    "        model.train()\n",
    "        res = model(x_pep, x_tmhc)\n",
    "        loss = (loss_fn(res.reshape(-1), target.reshape(-1).float())).mean() # * class_w[target]).mean()\n",
    "\n",
    "        optimizer.zero_grad()\n",
    "        loss.backward()\n",
    "        optimizer.step()\n",
    "        running_loss.append(loss.item())\n",
    "        upds += 1\n",
    "    #if upds % 1382 == 1:\n",
    "    val_loss, accuracy, auroc, percision, recall, f1 = val_model(model, val_dataloader)\n",
    "    last_auroc = auroc\n",
    "    running_val_loss.append(val_loss)\n",
    "    running_acc.append(accuracy)\n",
    "    running_auroc.append(auroc)\n",
    "    running_percision.append(percision)\n",
    "    running_recall.append(recall)\n",
    "    running_f1.append(f1)\n",
    "    running_val_loss_idx.append(upds)\n",
    "    # scheduler.step(last_auroc)\n",
    "    print(f'Train: {np.mean(running_loss[-690:])} | Val: {val_loss}')\n",
    "    print(f'Train: {binary_auroc(res.reshape(-1), target)} | Val: {auroc}')\n",
    "    scheduler.step()\n",
    "    # print(np.round(running_auroc, decimals=4)[-5:])\n",
    "    '''if i % 5 == 0:\n",
    "        # plot_state()\n",
    "        PATH = f\"model-{i}.pt\"\n",
    "        torch.save({\n",
    "            'epoch': i,\n",
    "            'model_state_dict': model.state_dict(),\n",
    "            'optimizer_state_dict': optimizer.state_dict(),\n",
    "            }, PATH\n",
    "        )'''"
   ],
   "metadata": {
    "execution": {
     "iopub.status.busy": "2023-07-23T13:04:19.992235Z",
     "iopub.execute_input": "2023-07-23T13:04:19.993263Z"
    },
    "trusted": true,
    "pycharm": {
     "name": "#%%\n"
    }
   },
   "execution_count": null,
   "outputs": [
    {
     "name": "stderr",
     "text": "100%|██████████| 1382/1382 [00:45<00:00, 30.44it/s]\n",
     "output_type": "stream"
    },
    {
     "name": "stdout",
     "text": "Train: 0.28347647447085034 | Val: 0.26839730266787687\nTrain: 0.9243380805559633 | Val: 0.9265060692912842\nEpoch 00001: adjusting learning rate of group 0 to 9.7553e-04.\n",
     "output_type": "stream"
    },
    {
     "name": "stderr",
     "text": "100%|██████████| 1382/1382 [00:43<00:00, 31.44it/s]\n",
     "output_type": "stream"
    },
    {
     "name": "stdout",
     "text": "Train: 0.23235165623651036 | Val: 0.2239348650325818\nTrain: 0.9368004368004368 | Val: 0.9502507104493367\nEpoch 00002: adjusting learning rate of group 0 to 9.0451e-04.\n",
     "output_type": "stream"
    },
    {
     "name": "stderr",
     "text": "100%|██████████| 1382/1382 [00:43<00:00, 31.47it/s]\n",
     "output_type": "stream"
    },
    {
     "name": "stdout",
     "text": "Train: 0.20427771893100463 | Val: 0.20157834230027416\nTrain: 0.9658009279188788 | Val: 0.9591114597218181\nEpoch 00003: adjusting learning rate of group 0 to 7.9389e-04.\n",
     "output_type": "stream"
    },
    {
     "name": "stderr",
     "text": "100%|██████████| 1382/1382 [00:44<00:00, 31.17it/s]\n",
     "output_type": "stream"
    },
    {
     "name": "stdout",
     "text": "Train: 0.19162065496911174 | Val: 0.19133026339633535\nTrain: 0.9705519656686233 | Val: 0.962606799932581\nEpoch 00004: adjusting learning rate of group 0 to 6.5451e-04.\n",
     "output_type": "stream"
    },
    {
     "name": "stderr",
     "text": "100%|██████████| 1382/1382 [00:43<00:00, 31.90it/s]\n",
     "output_type": "stream"
    },
    {
     "name": "stdout",
     "text": "Train: 0.1842352300234463 | Val: 0.18410224534337646\nTrain: 0.975430692862804 | Val: 0.9655409968337821\nEpoch 00005: adjusting learning rate of group 0 to 5.0000e-04.\n",
     "output_type": "stream"
    },
    {
     "name": "stderr",
     "text": "100%|██████████| 1382/1382 [00:43<00:00, 31.63it/s]\n",
     "output_type": "stream"
    },
    {
     "name": "stdout",
     "text": "Train: 0.1779204363624255 | Val: 0.1800432328027914\nTrain: 0.9744663488382082 | Val: 0.9668893761670682\nEpoch 00006: adjusting learning rate of group 0 to 3.4549e-04.\n",
     "output_type": "stream"
    },
    {
     "name": "stderr",
     "text": "100%|██████████| 1382/1382 [00:43<00:00, 31.93it/s]\n",
     "output_type": "stream"
    },
    {
     "name": "stdout",
     "text": "Train: 0.17398976858543314 | Val: 0.1763114181177064\nTrain: 0.9786402769979412 | Val: 0.9679834523028698\nEpoch 00007: adjusting learning rate of group 0 to 2.0611e-04.\n",
     "output_type": "stream"
    },
    {
     "name": "stderr",
     "text": "100%|██████████| 1382/1382 [00:43<00:00, 31.58it/s]\n",
     "output_type": "stream"
    },
    {
     "name": "stdout",
     "text": "Train: 0.17132315521222957 | Val: 0.17479149996109378\nTrain: 0.9792335524639454 | Val: 0.9684592486791923\nEpoch 00008: adjusting learning rate of group 0 to 9.5492e-05.\n",
     "output_type": "stream"
    },
    {
     "name": "stderr",
     "text": "100%|██████████| 1382/1382 [00:43<00:00, 31.98it/s]\n",
     "output_type": "stream"
    },
    {
     "name": "stdout",
     "text": "Train: 0.1698089687720589 | Val: 0.1731662850933208\nTrain: 0.972089650009358 | Val: 0.9690348038661036\nEpoch 00009: adjusting learning rate of group 0 to 2.4472e-05.\n",
     "output_type": "stream"
    },
    {
     "name": "stderr",
     "text": "100%|██████████| 1382/1382 [00:43<00:00, 31.96it/s]\n",
     "output_type": "stream"
    },
    {
     "name": "stdout",
     "text": "Train: 0.167838482418354 | Val: 0.1723815872235312\nTrain: 0.9616385542168675 | Val: 0.9693150688851964\nEpoch 00010: adjusting learning rate of group 0 to 1.0000e-03.\n",
     "output_type": "stream"
    },
    {
     "name": "stderr",
     "text": "100%|██████████| 1382/1382 [00:43<00:00, 31.65it/s]\n",
     "output_type": "stream"
    },
    {
     "name": "stdout",
     "text": "Train: 0.17472908073577328 | Val: 0.17508883511110196\nTrain: 0.9644362216055093 | Val: 0.9683467133815916\nEpoch 00011: adjusting learning rate of group 0 to 9.7553e-04.\n",
     "output_type": "stream"
    },
    {
     "name": "stderr",
     "text": "100%|██████████| 1382/1382 [00:43<00:00, 32.01it/s]\n",
     "output_type": "stream"
    },
    {
     "name": "stdout",
     "text": "Train: 0.1712984978072885 | Val: 0.1726303331194642\nTrain: 0.9721718931475029 | Val: 0.9691826022678571\nEpoch 00012: adjusting learning rate of group 0 to 9.0451e-04.\n",
     "output_type": "stream"
    },
    {
     "name": "stderr",
     "text": "100%|██████████| 1382/1382 [00:43<00:00, 31.49it/s]\n",
     "output_type": "stream"
    },
    {
     "name": "stdout",
     "text": "Train: 0.16690465602753818 | Val: 0.17113889990537423\nTrain: 0.9789303438496987 | Val: 0.9701059845371799\nEpoch 00013: adjusting learning rate of group 0 to 7.9389e-04.\n",
     "output_type": "stream"
    },
    {
     "name": "stderr",
     "text": "100%|██████████| 1382/1382 [00:43<00:00, 31.98it/s]\n",
     "output_type": "stream"
    },
    {
     "name": "stdout",
     "text": "Train: 0.1639966161786646 | Val: 0.1666190642984804\nTrain: 0.9717111428994228 | Val: 0.9712638408961448\nEpoch 00014: adjusting learning rate of group 0 to 6.5451e-04.\n",
     "output_type": "stream"
    },
    {
     "name": "stderr",
     "text": "100%|██████████| 1382/1382 [00:43<00:00, 31.99it/s]\n",
     "output_type": "stream"
    },
    {
     "name": "stdout",
     "text": "Train: 0.16079475108696067 | Val: 0.1650127484072959\nTrain: 0.9683093576413616 | Val: 0.9720998319943064\nEpoch 00015: adjusting learning rate of group 0 to 5.0000e-04.\n",
     "output_type": "stream"
    },
    {
     "name": "stderr",
     "text": "100%|██████████| 1382/1382 [00:43<00:00, 31.93it/s]\n",
     "output_type": "stream"
    },
    {
     "name": "stdout",
     "text": "Train: 0.15897180414286213 | Val: 0.1638714912753992\nTrain: 0.957406810613385 | Val: 0.9726678235009066\nEpoch 00016: adjusting learning rate of group 0 to 3.4549e-04.\n",
     "output_type": "stream"
    },
    {
     "name": "stderr",
     "text": "100%|██████████| 1382/1382 [00:43<00:00, 31.83it/s]\n",
     "output_type": "stream"
    },
    {
     "name": "stdout",
     "text": "Train: 0.15536014530537784 | Val: 0.1603672537289216\nTrain: 0.9699550209733664 | Val: 0.9732525777584665\nEpoch 00017: adjusting learning rate of group 0 to 2.0611e-04.\n",
     "output_type": "stream"
    },
    {
     "name": "stderr",
     "text": "100%|██████████| 1382/1382 [00:43<00:00, 31.42it/s]\n",
     "output_type": "stream"
    },
    {
     "name": "stdout",
     "text": "Train: 0.15356638702577438 | Val: 0.15968689303098613\nTrain: 0.966365999082709 | Val: 0.9734781594131483\nEpoch 00018: adjusting learning rate of group 0 to 9.5492e-05.\n",
     "output_type": "stream"
    },
    {
     "name": "stderr",
     "text": "100%|██████████| 1382/1382 [00:43<00:00, 31.63it/s]\n",
     "output_type": "stream"
    },
    {
     "name": "stdout",
     "text": "Train: 0.15148873826947765 | Val: 0.15881618440270032\nTrain: 0.9776771196283391 | Val: 0.9737693611051232\nEpoch 00019: adjusting learning rate of group 0 to 2.4472e-05.\n",
     "output_type": "stream"
    },
    {
     "name": "stderr",
     "text": "100%|██████████| 1382/1382 [00:44<00:00, 31.07it/s]\n",
     "output_type": "stream"
    },
    {
     "name": "stdout",
     "text": "Train: 0.14993076581453932 | Val: 0.15827260088786102\nTrain: 0.9703373493975903 | Val: 0.9738753548413738\nEpoch 00020: adjusting learning rate of group 0 to 1.0000e-03.\n",
     "output_type": "stream"
    },
    {
     "name": "stderr",
     "text": "100%|██████████| 1382/1382 [00:44<00:00, 31.39it/s]\n",
     "output_type": "stream"
    },
    {
     "name": "stdout",
     "text": "Train: 0.1602132015578125 | Val: 0.16485845927591616\nTrain: 0.9791484061447617 | Val: 0.9718852892244029\nEpoch 00021: adjusting learning rate of group 0 to 9.7553e-04.\n",
     "output_type": "stream"
    },
    {
     "name": "stderr",
     "text": "100%|██████████| 1382/1382 [00:43<00:00, 31.59it/s]\n",
     "output_type": "stream"
    },
    {
     "name": "stdout",
     "text": "Train: 0.15841243943010552 | Val: 0.16319921638955057\nTrain: 0.9689895470383275 | Val: 0.972362823202959\nEpoch 00022: adjusting learning rate of group 0 to 9.0451e-04.\n",
     "output_type": "stream"
    },
    {
     "name": "stderr",
     "text": "100%|██████████| 1382/1382 [00:43<00:00, 31.44it/s]\n",
     "output_type": "stream"
    },
    {
     "name": "stdout",
     "text": "Train: 0.1571980072968248 | Val: 0.16112746270163716\nTrain: 0.9782459305072371 | Val: 0.9730495849328218\nEpoch 00023: adjusting learning rate of group 0 to 7.9389e-04.\n",
     "output_type": "stream"
    },
    {
     "name": "stderr",
     "text": "100%|██████████| 1382/1382 [00:43<00:00, 31.60it/s]\n",
     "output_type": "stream"
    },
    {
     "name": "stdout",
     "text": "Train: 0.15516699030995368 | Val: 0.1615470230969533\nTrain: 0.968261990195583 | Val: 0.9732618790410112\nEpoch 00024: adjusting learning rate of group 0 to 6.5451e-04.\n",
     "output_type": "stream"
    },
    {
     "name": "stderr",
     "text": "100%|██████████| 1382/1382 [00:44<00:00, 31.41it/s]\n",
     "output_type": "stream"
    },
    {
     "name": "stdout",
     "text": "Train: 0.151831086455048 | Val: 0.15866627130339483\nTrain: 0.9854067223548131 | Val: 0.9737593443393059\nEpoch 00025: adjusting learning rate of group 0 to 5.0000e-04.\n",
     "output_type": "stream"
    },
    {
     "name": "stderr",
     "text": "100%|██████████| 1382/1382 [00:44<00:00, 31.03it/s]\n",
     "output_type": "stream"
    },
    {
     "name": "stdout",
     "text": "Train: 0.1502830988794997 | Val: 0.15765540054884544\nTrain: 0.981537284163199 | Val: 0.9741598105482063\nEpoch 00026: adjusting learning rate of group 0 to 3.4549e-04.\n",
     "output_type": "stream"
    },
    {
     "name": "stderr",
     "text": "100%|██████████| 1382/1382 [00:44<00:00, 30.87it/s]\n",
     "output_type": "stream"
    },
    {
     "name": "stdout",
     "text": "Train: 0.14830420502070069 | Val: 0.15637787390737468\nTrain: 0.9740588421385638 | Val: 0.9744772806974776\nEpoch 00027: adjusting learning rate of group 0 to 2.0611e-04.\n",
     "output_type": "stream"
    },
    {
     "name": "stderr",
     "text": "100%|██████████| 1382/1382 [00:45<00:00, 30.60it/s]\n",
     "output_type": "stream"
    },
    {
     "name": "stdout",
     "text": "Train: 0.14519060066212777 | Val: 0.15580070506068072\nTrain: 0.9804147465437788 | Val: 0.9746378555862429\nEpoch 00028: adjusting learning rate of group 0 to 9.5492e-05.\n",
     "output_type": "stream"
    },
    {
     "name": "stderr",
     "text": "100%|██████████| 1382/1382 [00:44<00:00, 30.92it/s]\n",
     "output_type": "stream"
    },
    {
     "name": "stdout",
     "text": "Train: 0.14387836975679882 | Val: 0.1551244088573444\nTrain: 0.9805406205297686 | Val: 0.9748722274639889\nEpoch 00029: adjusting learning rate of group 0 to 2.4472e-05.\n",
     "output_type": "stream"
    },
    {
     "name": "stderr",
     "text": "100%|██████████| 1382/1382 [00:44<00:00, 30.73it/s]\n",
     "output_type": "stream"
    },
    {
     "name": "stdout",
     "text": "Train: 0.1425250862063705 | Val: 0.1549589770757707\nTrain: 0.9792017593112483 | Val: 0.9749375408655937\nEpoch 00030: adjusting learning rate of group 0 to 1.0000e-03.\n",
     "output_type": "stream"
    },
    {
     "name": "stderr",
     "text": "100%|██████████| 1382/1382 [00:44<00:00, 30.95it/s]\n",
     "output_type": "stream"
    },
    {
     "name": "stdout",
     "text": "Train: 0.15395723935486613 | Val: 0.16055330456052327\nTrain: 0.9716376306620209 | Val: 0.9731782697100054\nEpoch 00031: adjusting learning rate of group 0 to 9.7553e-04.\n",
     "output_type": "stream"
    },
    {
     "name": "stderr",
     "text": "100%|██████████| 1382/1382 [00:44<00:00, 31.28it/s]\n",
     "output_type": "stream"
    },
    {
     "name": "stdout",
     "text": "Train: 0.1538507203584996 | Val: 0.1605835783060768\nTrain: 0.9747960372960373 | Val: 0.9731902285018486\nEpoch 00032: adjusting learning rate of group 0 to 9.0451e-04.\n",
     "output_type": "stream"
    },
    {
     "name": "stderr",
     "text": "100%|██████████| 1382/1382 [00:43<00:00, 31.75it/s]\n",
     "output_type": "stream"
    },
    {
     "name": "stdout",
     "text": "Train: 0.15168744322398434 | Val: 0.15929911073089806\nTrain: 0.9831039683287774 | Val: 0.9737847951014336\nEpoch 00033: adjusting learning rate of group 0 to 7.9389e-04.\n",
     "output_type": "stream"
    },
    {
     "name": "stderr",
     "text": "100%|██████████| 1382/1382 [00:43<00:00, 31.47it/s]\n",
     "output_type": "stream"
    },
    {
     "name": "stdout",
     "text": "Train: 0.14927675581496694 | Val: 0.15818838627778992\nTrain: 0.9858823529411764 | Val: 0.9739824729084814\nEpoch 00034: adjusting learning rate of group 0 to 6.5451e-04.\n",
     "output_type": "stream"
    },
    {
     "name": "stderr",
     "text": "100%|██████████| 1382/1382 [00:44<00:00, 30.89it/s]\n",
     "output_type": "stream"
    },
    {
     "name": "stdout",
     "text": "Train: 0.1470325968079809 | Val: 0.15758464910793493\nTrain: 0.9807951482479784 | Val: 0.974274492295625\nEpoch 00035: adjusting learning rate of group 0 to 5.0000e-04.\n",
     "output_type": "stream"
    },
    {
     "name": "stderr",
     "text": "100%|██████████| 1382/1382 [00:44<00:00, 31.29it/s]\n",
     "output_type": "stream"
    },
    {
     "name": "stdout",
     "text": "Train: 0.14561573610357617 | Val: 0.1559903020026745\nTrain: 0.9644599303135889 | Val: 0.9747041911068087\nEpoch 00036: adjusting learning rate of group 0 to 3.4549e-04.\n",
     "output_type": "stream"
    },
    {
     "name": "stderr",
     "text": "100%|██████████| 1382/1382 [00:43<00:00, 31.89it/s]\n",
     "output_type": "stream"
    },
    {
     "name": "stdout",
     "text": "Train: 0.14203474500041077 | Val: 0.1553011234664146\nTrain: 0.9815374748030053 | Val: 0.9748666058097037\nEpoch 00037: adjusting learning rate of group 0 to 2.0611e-04.\n",
     "output_type": "stream"
    },
    {
     "name": "stderr",
     "text": "100%|██████████| 1382/1382 [00:44<00:00, 31.40it/s]\n",
     "output_type": "stream"
    },
    {
     "name": "stdout",
     "text": "Train: 0.1403662953255833 | Val: 0.15498715638086322\nTrain: 0.9741952086842598 | Val: 0.9749654447132277\nEpoch 00038: adjusting learning rate of group 0 to 9.5492e-05.\n",
     "output_type": "stream"
    },
    {
     "name": "stderr",
     "text": "100%|██████████| 1382/1382 [00:43<00:00, 31.78it/s]\n",
     "output_type": "stream"
    },
    {
     "name": "stdout",
     "text": "Train: 0.1390463599908179 | Val: 0.15436476723813053\nTrain: 0.9814416224231118 | Val: 0.9751606694347692\nEpoch 00039: adjusting learning rate of group 0 to 2.4472e-05.\n",
     "output_type": "stream"
    },
    {
     "name": "stderr",
     "text": "100%|██████████| 1382/1382 [00:43<00:00, 31.50it/s]\n",
     "output_type": "stream"
    },
    {
     "name": "stdout",
     "text": "Train: 0.13678914824689645 | Val: 0.15422942540546267\nTrain: 0.9624854312354313 | Val: 0.9752319111263476\nEpoch 00040: adjusting learning rate of group 0 to 1.0000e-03.\n",
     "output_type": "stream"
    },
    {
     "name": "stderr",
     "text": "100%|██████████| 1382/1382 [00:43<00:00, 31.73it/s]\n",
     "output_type": "stream"
    },
    {
     "name": "stdout",
     "text": "Train: 0.15000193305853485 | Val: 0.15800199468892923\nTrain: 0.9793510324483776 | Val: 0.9740125232059333\nEpoch 00041: adjusting learning rate of group 0 to 9.7553e-04.\n",
     "output_type": "stream"
    },
    {
     "name": "stderr",
     "text": "100%|██████████| 1382/1382 [00:43<00:00, 31.90it/s]\n",
     "output_type": "stream"
    },
    {
     "name": "stdout",
     "text": "Train: 0.14966407099711723 | Val: 0.15947143801475486\nTrain: 0.9729017775334433 | Val: 0.9736247312721487\nEpoch 00042: adjusting learning rate of group 0 to 9.0451e-04.\n",
     "output_type": "stream"
    },
    {
     "name": "stderr",
     "text": "100%|██████████| 1382/1382 [00:43<00:00, 31.80it/s]\n",
     "output_type": "stream"
    },
    {
     "name": "stdout",
     "text": "Train: 0.1476592862951583 | Val: 0.15838182310279889\nTrain: 0.9769397590361446 | Val: 0.9740130342654139\nEpoch 00043: adjusting learning rate of group 0 to 7.9389e-04.\n",
     "output_type": "stream"
    }
   ]
  },
  {
   "cell_type": "code",
   "source": [
    "def plot_state():\n",
    "    print(np.round(running_acc, decimals=4))\n",
    "    print(np.round(running_auroc, decimals=4))\n",
    "    plt.plot(np.arange(len(running_loss))[10:], running_loss[10:], label=\"train loss\")\n",
    "    plt.plot(running_val_loss_idx, running_val_loss, label=\"val loss\")\n",
    "    plt.legend()\n",
    "    plt.show()\n",
    "    plt.plot(running_val_loss_idx, running_acc, label=\"accuracy\")\n",
    "    plt.plot(running_val_loss_idx, running_auroc, label=\"auroc\")\n",
    "    plt.plot(running_val_loss_idx, running_percision, label=\"percision\")\n",
    "    plt.plot(running_val_loss_idx, running_recall, label=\"recall\")\n",
    "    plt.plot(running_val_loss_idx, running_f1, label=\"f1\")\n",
    "    plt.legend()\n",
    "    plt.show()\n",
    "plot_state()"
   ],
   "metadata": {
    "execution": {
     "iopub.status.busy": "2023-07-23T14:35:09.330569Z",
     "iopub.execute_input": "2023-07-23T14:35:09.331023Z",
     "iopub.status.idle": "2023-07-23T14:35:10.030917Z",
     "shell.execute_reply.started": "2023-07-23T14:35:09.330988Z",
     "shell.execute_reply": "2023-07-23T14:35:10.029916Z"
    },
    "trusted": true,
    "pycharm": {
     "name": "#%%\n"
    }
   },
   "execution_count": 125,
   "outputs": [
    {
     "name": "stdout",
     "text": "[0.8848 0.9111 0.9215 0.9256 0.9286 0.9303 0.9316 0.9324 0.933  0.9334\n 0.9316 0.9324 0.9329 0.9359 0.9363 0.9365 0.9384 0.9384 0.9389 0.939\n 0.9361 0.9369 0.9379 0.9377 0.939  0.939  0.9398 0.9404 0.9406 0.9405\n 0.9378 0.9379 0.9388 0.9394 0.9394 0.9403 0.9403 0.9407 0.941  0.9411\n 0.9395 0.9385 0.939  0.9393 0.9396 0.94   0.9405 0.9408 0.941  0.9411\n 0.9391 0.9384 0.9393 0.9394 0.9393 0.9402 0.9404 0.9409 0.9408 0.9408\n 0.9393 0.9396 0.9391 0.9392 0.9402 0.9401 0.9403 0.9405 0.9407 0.9408\n 0.9394 0.9391 0.9388 0.9395 0.9398 0.9395 0.94   0.9405 0.9403 0.9405\n 0.9387 0.9389 0.939  0.9391 0.9395 0.9399 0.9402 0.9402 0.9405 0.9403]\n[0.9265 0.9503 0.9591 0.9626 0.9655 0.9669 0.968  0.9685 0.969  0.9693\n 0.9683 0.9692 0.9701 0.9713 0.9721 0.9727 0.9733 0.9735 0.9738 0.9739\n 0.9719 0.9724 0.973  0.9733 0.9738 0.9742 0.9745 0.9746 0.9749 0.9749\n 0.9732 0.9732 0.9738 0.974  0.9743 0.9747 0.9749 0.975  0.9752 0.9752\n 0.974  0.9736 0.974  0.9742 0.9745 0.9746 0.975  0.975  0.9752 0.9752\n 0.9741 0.9738 0.9741 0.974  0.9743 0.9747 0.9747 0.9749 0.9749 0.975\n 0.974  0.9741 0.974  0.974  0.9744 0.9743 0.9746 0.9747 0.9747 0.9747\n 0.9739 0.9738 0.9739 0.9741 0.9741 0.9743 0.9744 0.9745 0.9745 0.9745\n 0.9735 0.9736 0.9738 0.9739 0.9741 0.9742 0.9743 0.9742 0.9742 0.9742]\n",
     "output_type": "stream"
    },
    {
     "output_type": "display_data",
     "data": {
      "text/plain": "<Figure size 640x480 with 1 Axes>",
      "image/png": "[encoded data removed]"
     },
     "metadata": {}
    },
    {
     "output_type": "display_data",
     "data": {
      "text/plain": "<Figure size 640x480 with 1 Axes>",
      "image/png": "[encoded data removed]"
     },
     "metadata": {}
    }
   ]
  },
  {
   "cell_type": "code",
   "source": [
    "def val_model_res(model, dataloader):\n",
    "    model.eval()\n",
    "    val_loss = 0\n",
    "    results = []\n",
    "    targets = []\n",
    "    with torch.no_grad():\n",
    "        for x_pep, x_tmhc, target in dataloader:\n",
    "            res = model(x_pep, x_tmhc)\n",
    "            results.append(res)\n",
    "            targets.append(target)\n",
    "            val_loss += nn.BCELoss(reduction='sum')(res.reshape(-1), target.reshape(-1).float()).item()\n",
    "    \n",
    "    res = torch.concat(results).reshape(-1)\n",
    "    target = torch.concat(targets)\n",
    "    accuracy = (res.reshape(-1).round() == target.reshape(-1)).float().mean().item()\n",
    "    val_loss /= len(val_dataloader.dataset)\n",
    "    return res, target\n"
   ],
   "metadata": {
    "execution": {
     "iopub.status.busy": "2023-07-23T14:35:16.467949Z",
     "iopub.execute_input": "2023-07-23T14:35:16.468357Z",
     "iopub.status.idle": "2023-07-23T14:35:16.477290Z",
     "shell.execute_reply.started": "2023-07-23T14:35:16.468326Z",
     "shell.execute_reply": "2023-07-23T14:35:16.476102Z"
    },
    "trusted": true,
    "pycharm": {
     "name": "#%%\n"
    }
   },
   "execution_count": 126,
   "outputs": []
  },
  {
   "cell_type": "code",
   "source": [
    "output, target = val_model_res(model, val_dataloader)"
   ],
   "metadata": {
    "execution": {
     "iopub.status.busy": "2023-07-23T14:36:16.222250Z",
     "iopub.execute_input": "2023-07-23T14:36:16.222953Z",
     "iopub.status.idle": "2023-07-23T14:36:22.652006Z",
     "shell.execute_reply.started": "2023-07-23T14:36:16.222918Z",
     "shell.execute_reply": "2023-07-23T14:36:22.651008Z"
    },
    "trusted": true,
    "pycharm": {
     "name": "#%%\n"
    }
   },
   "execution_count": 130,
   "outputs": []
  },
  {
   "cell_type": "code",
   "source": [
    "from torchmetrics.classification import BinaryAccuracy\n",
    "val_df = df.iloc[valid_idx]\n",
    "data = []\n",
    "for i, mhc_type in enumerate(mhc_types):\n",
    "    mask = (df['MHC_type'] == mhc_type)[valid_idx].to_numpy()\n",
    "    r = output[mask].cpu()\n",
    "    t = target[mask].cpu()\n",
    "    res = [\n",
    "        mhc_type,\n",
    "        BinaryAccuracy()(r, t).item(),\n",
    "        binary_precision(r, t).item(),\n",
    "        binary_recall(r, t).item(),\n",
    "        binary_f1_score(r, t).item(),\n",
    "        sum(t).item(),\n",
    "        sum(mask),\n",
    "        binary_auroc(r, t).item(),\n",
    "    ]\n",
    "    data.append(res)\n",
    "df_metrics = pd.DataFrame(data, columns=['mhc_type', 'accuracy', 'precision', 'recall', 'f1', 'positive', 'count', 'auroc'])"
   ],
   "metadata": {
    "execution": {
     "iopub.status.busy": "2023-07-23T14:36:22.657363Z",
     "iopub.execute_input": "2023-07-23T14:36:22.659615Z",
     "iopub.status.idle": "2023-07-23T14:37:05.383774Z",
     "shell.execute_reply.started": "2023-07-23T14:36:22.659579Z",
     "shell.execute_reply": "2023-07-23T14:37:05.382705Z"
    },
    "trusted": true,
    "pycharm": {
     "name": "#%%\n"
    }
   },
   "execution_count": 131,
   "outputs": []
  },
  {
   "cell_type": "code",
   "source": [
    "pd.set_option('display.max_rows', 500)\n",
    "df_metrics.sort_values(by=['f1'])"
   ],
   "metadata": {
    "execution": {
     "iopub.status.busy": "2023-07-23T14:37:05.385491Z",
     "iopub.execute_input": "2023-07-23T14:37:05.385855Z",
     "iopub.status.idle": "2023-07-23T14:37:05.432998Z",
     "shell.execute_reply.started": "2023-07-23T14:37:05.385817Z",
     "shell.execute_reply": "2023-07-23T14:37:05.432032Z"
    },
    "trusted": true,
    "pycharm": {
     "name": "#%%\n"
    }
   },
   "execution_count": 132,
   "outputs": [
    {
     "execution_count": 132,
     "output_type": "execute_result",
     "data": {
      "text/plain": "        mhc_type  accuracy  precision    recall        f1  positive  count  \\\n61   HLA-A*30:01  0.842713   0.810526  0.277978  0.413978       277   1386   \n99   HLA-B*15:03  0.865443   0.800000  0.430769  0.560000        65    327   \n93   HLA-A*66:01  0.891892   1.000000  0.466667  0.636364        15     74   \n100  HLA-B*48:01  0.882979   0.722222  0.684211  0.702703        19     94   \n0    HLA-B*27:05  0.894270   0.800381  0.630352  0.705263      7334  36546   \n82   HLA-B*83:01  0.902344   0.882353  0.588235  0.705882        51    256   \n84   HLA-B*15:17  0.900763   0.844828  0.620253  0.715328        79    393   \n60   HLA-A*26:03  0.909091   0.888889  0.615385  0.727273        13     66   \n62   HLA-C*01:02  0.902655   0.816720  0.661458  0.730935       384   1921   \n101  HLA-B*15:09  0.902439   0.785714  0.687500  0.733333        16     82   \n8    HLA-B*15:42  0.908127   0.860465  0.649123  0.740000        57    283   \n87   HLA-A*30:02  0.910059   0.839416  0.680473  0.751634       169    845   \n96   HLA-A*02:11  0.908537   0.810345  0.712121  0.758065        66    328   \n43   HLA-A*68:02  0.911090   0.820912  0.710983  0.762003      1038   5185   \n74   HLA-B*73:01  0.911765   0.810811  0.731707  0.769231        82    408   \n97   HLA-A*24:03  0.912338   0.786885  0.774194  0.780488        62    308   \n49   HLA-B*54:01  0.918019   0.819444  0.756410  0.786667       234   1171   \n73   HLA-A*69:01  0.918410   0.822857  0.753927  0.786885       191    956   \n95   HLA-B*52:01  0.914842   0.770115  0.817073  0.792899        82    411   \n64   HLA-A*02:02  0.920619   0.807107  0.793017  0.800000       401   2003   \n90   HLA-A*02:16  0.927632   0.851852  0.766667  0.807018        30    152   \n11   HLA-A*02:01  0.923553   0.817174  0.797795  0.807368      4807  23938   \n52   HLA-B*08:01  0.928433   0.840149  0.793679  0.816253      1139   5687   \n9    HLA-A*02:06  0.927403   0.817509  0.820545  0.819024       808   4036   \n89   HLA-B*15:02  0.928910   0.829268  0.809524  0.819277        42    211   \n7    HLA-A*33:01  0.928638   0.808889  0.842593  0.825397       216   1079   \n2    HLA-A*31:01  0.931432   0.841808  0.809783  0.825485       920   4594   \n45   HLA-B*53:01  0.934351   0.866667  0.793893  0.828685       131    655   \n39   HLA-A*26:01  0.933811   0.834711  0.834711  0.834711       363   1813   \n53   HLA-C*15:02  0.934714   0.841270  0.830721  0.835962       319   1593   \n48   HLA-B*39:06  0.936659   0.868085  0.806324  0.836066       253   1263   \n44   HLA-C*06:02  0.936029   0.851852  0.823691  0.837535      1089   5440   \n85   HLA-B*18:03  0.943396   0.968750  0.738095  0.837838        42    212   \n22   HLA-B*51:01  0.936419   0.855497  0.821106  0.837949       995   4970   \n25   HLA-A*02:12  0.934783   0.813559  0.872727  0.842105        55    276   \n20   HLA-A*32:01  0.938108   0.855842  0.830633  0.843049       679   3393   \n40   HLA-C*07:01  0.938428   0.856941  0.831044  0.843794       728   3638   \n6    HLA-B*35:01  0.940170   0.879321  0.812899  0.844807      1721   8591   \n15   HLA-B*27:09  0.941614   0.892634  0.805180  0.846655       888   4436   \n50   HLA-C*07:02  0.939049   0.846667  0.849498  0.848080       598   2986   \n18   HLA-B*13:02  0.938776   0.831461  0.870588  0.850575       510   2548   \n16   HLA-B*46:01  0.942108   0.872204  0.832317  0.851794       328   1641   \n21   HLA-A*02:03  0.939829   0.836562  0.869182  0.852560       795   3972   \n33   HLA-C*04:01  0.942978   0.873929  0.836066  0.854578      1708   8523   \n92   HLA-A*02:19  0.939394   0.818182  0.900000  0.857143        40    198   \n102  HLA-A*80:01  0.950704   1.000000  0.750000  0.857143        28    142   \n34   HLA-C*03:03  0.945510   0.860950  0.867991  0.864456       856   4276   \n14   HLA-C*03:04  0.944527   0.842353  0.889441  0.865257       805   4020   \n42   HLA-A*29:02  0.946277   0.868376  0.862479  0.865417      1178   5882   \n13   HLA-C*16:01  0.945103   0.846897  0.886003  0.866008       693   3461   \n65   HLA-C*07:04  0.944935   0.842942  0.890756  0.866190       476   2379   \n1    HLA-B*15:01  0.946470   0.859170  0.876901  0.867945      2762  13768   \n83   HLA-A*26:02  0.946809   0.868421  0.868421  0.868421        38    188   \n36   HLA-A*03:01  0.945671   0.840739  0.899294  0.869031      2125  10602   \n4    HLA-B*57:01  0.948095   0.869783  0.871237  0.870510      2392  11945   \n71   HLA-B*39:01  0.950113   0.902834  0.841509  0.871094       795   3969   \n26   HLA-A*24:02  0.949643   0.892328  0.851169  0.871262      1626   8122   \n5    HLA-C*02:02  0.949054   0.877101  0.867082  0.872063       963   4809   \n80   HLA-C*17:01  0.948956   0.863636  0.883721  0.873563        86    431   \n81   HLA-C*12:03  0.948639   0.857143  0.891641  0.874052       323   1616   \n76   HLA-B*51:08  0.951754   0.896552  0.857143  0.876405        91    456   \n30   HLA-C*05:01  0.950239   0.868597  0.885358  0.876897       881   4401   \n17   HLA-B*57:03  0.951037   0.877256  0.878313  0.877784       830   4146   \n24   HLA-B*14:02  0.949248   0.847162  0.910798  0.877828       639   3192   \n79   HLA-A*02:05  0.949477   0.846316  0.913636  0.878689       440   2197   \n47   HLA-A*68:01  0.950337   0.858438  0.900512  0.878972      1367   6826   \n72   HLA-B*56:01  0.949477   0.830769  0.939130  0.881633       115    574   \n10   HLA-B*07:02  0.950683   0.849144  0.916827  0.881689      2597  12957   \n28   HLA-B*58:01  0.951821   0.866013  0.898305  0.881864       885   4421   \n38   HLA-A*11:01  0.951866   0.862704  0.903581  0.882670      1815   9058   \n68   HLA-B*15:18  0.953488   0.888235  0.877907  0.883041       172    860   \n63   HLA-B*35:08  0.953008   0.879070  0.887324  0.883178       213   1064   \n69   HLA-B*45:01  0.953242   0.873391  0.896476  0.884783       454   2267   \n32   HLA-A*02:07  0.955155   0.894737  0.879310  0.886957       522   2609   \n78   HLA-B*41:01  0.953535   0.858491  0.919192  0.887805        99    495   \n51   HLA-B*35:03  0.954574   0.860432  0.922840  0.890544       648   3236   \n19   HLA-A*01:01  0.955249   0.867598  0.916224  0.891248      1695   8469   \n41   HLA-C*08:02  0.954997   0.859982  0.926070  0.891803      1028   5133   \n3    HLA-B*18:01  0.959002   0.908467  0.884187  0.896163       449   2244   \n75   HLA-B*50:01  0.959327   0.884746  0.915789  0.900000       285   1426   \n56   HLA-A*02:17  0.957082   0.836364  0.978723  0.901961        47    233   \n57   HLA-A*23:01  0.960080   0.881329  0.925249  0.902755       602   3006   \n77   HLA-A*25:01  0.958333   0.826087  1.000000  0.904762        19     96   \n88   HLA-A*02:20  0.961298   0.868571  0.950000  0.907463       160    801   \n105  HLA-B*27:20  0.958904   0.833333  1.000000  0.909091        15     73   \n27   HLA-B*27:03  0.963338   0.881657  0.943038  0.911315       158    791   \n55   HLA-B*39:24  0.965092   0.908163  0.917526  0.912820        97    487   \n23   HLA-B*40:02  0.965209   0.899035  0.930759  0.914622      1502   7502   \n31   HLA-A*02:04  0.965569   0.896057  0.936330  0.915751       267   1336   \n91   HLA-A*32:15  0.965517   0.916667  0.916667  0.916667        12     58   \n37   HLA-B*38:01  0.966314   0.898618  0.937500  0.917647       624   3117   \n29   HLA-B*44:02  0.967229   0.916724  0.919890  0.918304      1448   7232   \n58   HLA-B*40:01  0.966629   0.893891  0.945578  0.919008       882   4405   \n59   HLA-B*27:06  0.968220   0.911917  0.931217  0.921466       189    944   \n35   HLA-B*37:01  0.967009   0.875467  0.973684  0.921967       722   3607   \n46   HLA-B*27:08  0.970267   0.924471  0.927273  0.925870       330   1648   \n66   HLA-B*27:01  0.969904   0.901454  0.953846  0.926910       585   2924   \n67   HLA-C*14:02  0.970029   0.892544  0.966746  0.928164       421   2102   \n98   HLA-A*32:07  0.971429   0.928571  0.928571  0.928571        14     70   \n12   HLA-B*44:03  0.972104   0.916187  0.947324  0.931495      1177   5879   \n54   HLA-B*49:01  0.974767   0.903376  0.978562  0.939467       793   3963   \n70   HLA-B*27:02  0.975294   0.916201  0.964706  0.939828       510   2550   \n103  HLA-B*44:27  0.981481   0.916667  1.000000  0.956522        11     54   \n86   HLA-A*24:13  0.983051   0.958333  0.958333  0.958333        24    118   \n94   HLA-B*14:01  1.000000   1.000000  1.000000  1.000000        15     76   \n104  HLA-A*68:23  1.000000   1.000000  1.000000  1.000000        13     64   \n\n        auroc  \n61   0.892227  \n99   0.903641  \n93   0.936723  \n100  0.968421  \n0    0.905427  \n82   0.949689  \n84   0.956583  \n60   0.956459  \n62   0.954601  \n101  0.955492  \n8    0.965689  \n87   0.946824  \n96   0.957148  \n43   0.947896  \n74   0.966894  \n97   0.966890  \n49   0.944495  \n73   0.965021  \n95   0.956631  \n64   0.962727  \n90   0.940984  \n11   0.957862  \n52   0.967904  \n9    0.968174  \n89   0.976754  \n7    0.969824  \n2    0.970385  \n45   0.979401  \n39   0.973155  \n53   0.979304  \n48   0.980198  \n44   0.971853  \n85   0.970588  \n22   0.972300  \n25   0.972275  \n20   0.976810  \n40   0.975288  \n6    0.974321  \n15   0.968327  \n50   0.976788  \n18   0.982060  \n16   0.977969  \n21   0.975178  \n33   0.968201  \n92   0.968354  \n102  0.994361  \n34   0.982040  \n14   0.985194  \n42   0.976690  \n13   0.983382  \n65   0.982790  \n1    0.978196  \n83   0.982632  \n36   0.980457  \n4    0.971595  \n71   0.983310  \n26   0.971760  \n5    0.986391  \n80   0.983991  \n81   0.985119  \n76   0.983170  \n30   0.980917  \n17   0.979502  \n24   0.987250  \n79   0.985937  \n47   0.984919  \n72   0.982571  \n10   0.983211  \n28   0.978602  \n38   0.981558  \n68   0.987079  \n63   0.983284  \n69   0.975800  \n32   0.982648  \n78   0.980869  \n51   0.990196  \n19   0.986351  \n41   0.986700  \n3    0.987034  \n75   0.986718  \n56   0.985244  \n57   0.987193  \n77   0.993165  \n88   0.992414  \n105  0.990805  \n27   0.986452  \n55   0.992070  \n23   0.989505  \n31   0.987212  \n91   0.998188  \n37   0.991187  \n29   0.992015  \n58   0.986420  \n59   0.985592  \n35   0.991137  \n46   0.990686  \n66   0.993507  \n67   0.993229  \n98   0.983418  \n12   0.993915  \n54   0.994766  \n70   0.994249  \n103  1.000000  \n86   0.965426  \n94   1.000000  \n104  1.000000  ",
      "text/html": "<div>\n<style scoped>\n    .dataframe tbody tr th:only-of-type {\n        vertical-align: middle;\n    }\n\n    .dataframe tbody tr th {\n        vertical-align: top;\n    }\n\n    .dataframe thead th {\n        text-align: right;\n    }\n</style>\n<table border=\"1\" class=\"dataframe\">\n  <thead>\n    <tr style=\"text-align: right;\">\n      <th></th>\n      <th>mhc_type</th>\n      <th>accuracy</th>\n      <th>precision</th>\n      <th>recall</th>\n      <th>f1</th>\n      <th>positive</th>\n      <th>count</th>\n      <th>auroc</th>\n    </tr>\n  </thead>\n  <tbody>\n    <tr>\n      <th>61</th>\n      <td>HLA-A*30:01</td>\n      <td>0.842713</td>\n      <td>0.810526</td>\n      <td>0.277978</td>\n      <td>0.413978</td>\n      <td>277</td>\n      <td>1386</td>\n      <td>0.892227</td>\n    </tr>\n    <tr>\n      <th>99</th>\n      <td>HLA-B*15:03</td>\n      <td>0.865443</td>\n      <td>0.800000</td>\n      <td>0.430769</td>\n      <td>0.560000</td>\n      <td>65</td>\n      <td>327</td>\n      <td>0.903641</td>\n    </tr>\n    <tr>\n      <th>93</th>\n      <td>HLA-A*66:01</td>\n      <td>0.891892</td>\n      <td>1.000000</td>\n      <td>0.466667</td>\n      <td>0.636364</td>\n      <td>15</td>\n      <td>74</td>\n      <td>0.936723</td>\n    </tr>\n    <tr>\n      <th>100</th>\n      <td>HLA-B*48:01</td>\n      <td>0.882979</td>\n      <td>0.722222</td>\n      <td>0.684211</td>\n      <td>0.702703</td>\n      <td>19</td>\n      <td>94</td>\n      <td>0.968421</td>\n    </tr>\n    <tr>\n      <th>0</th>\n      <td>HLA-B*27:05</td>\n      <td>0.894270</td>\n      <td>0.800381</td>\n      <td>0.630352</td>\n      <td>0.705263</td>\n      <td>7334</td>\n      <td>36546</td>\n      <td>0.905427</td>\n    </tr>\n    <tr>\n      <th>82</th>\n      <td>HLA-B*83:01</td>\n      <td>0.902344</td>\n      <td>0.882353</td>\n      <td>0.588235</td>\n      <td>0.705882</td>\n      <td>51</td>\n      <td>256</td>\n      <td>0.949689</td>\n    </tr>\n    <tr>\n      <th>84</th>\n      <td>HLA-B*15:17</td>\n      <td>0.900763</td>\n      <td>0.844828</td>\n      <td>0.620253</td>\n      <td>0.715328</td>\n      <td>79</td>\n      <td>393</td>\n      <td>0.956583</td>\n    </tr>\n    <tr>\n      <th>60</th>\n      <td>HLA-A*26:03</td>\n      <td>0.909091</td>\n      <td>0.888889</td>\n      <td>0.615385</td>\n      <td>0.727273</td>\n      <td>13</td>\n      <td>66</td>\n      <td>0.956459</td>\n    </tr>\n    <tr>\n      <th>62</th>\n      <td>HLA-C*01:02</td>\n      <td>0.902655</td>\n      <td>0.816720</td>\n      <td>0.661458</td>\n      <td>0.730935</td>\n      <td>384</td>\n      <td>1921</td>\n      <td>0.954601</td>\n    </tr>\n    <tr>\n      <th>101</th>\n      <td>HLA-B*15:09</td>\n      <td>0.902439</td>\n      <td>0.785714</td>\n      <td>0.687500</td>\n      <td>0.733333</td>\n      <td>16</td>\n      <td>82</td>\n      <td>0.955492</td>\n    </tr>\n    <tr>\n      <th>8</th>\n      <td>HLA-B*15:42</td>\n      <td>0.908127</td>\n      <td>0.860465</td>\n      <td>0.649123</td>\n      <td>0.740000</td>\n      <td>57</td>\n      <td>283</td>\n      <td>0.965689</td>\n    </tr>\n    <tr>\n      <th>87</th>\n      <td>HLA-A*30:02</td>\n      <td>0.910059</td>\n      <td>0.839416</td>\n      <td>0.680473</td>\n      <td>0.751634</td>\n      <td>169</td>\n      <td>845</td>\n      <td>0.946824</td>\n    </tr>\n    <tr>\n      <th>96</th>\n      <td>HLA-A*02:11</td>\n      <td>0.908537</td>\n      <td>0.810345</td>\n      <td>0.712121</td>\n      <td>0.758065</td>\n      <td>66</td>\n      <td>328</td>\n      <td>0.957148</td>\n    </tr>\n    <tr>\n      <th>43</th>\n      <td>HLA-A*68:02</td>\n      <td>0.911090</td>\n      <td>0.820912</td>\n      <td>0.710983</td>\n      <td>0.762003</td>\n      <td>1038</td>\n      <td>5185</td>\n      <td>0.947896</td>\n    </tr>\n    <tr>\n      <th>74</th>\n      <td>HLA-B*73:01</td>\n      <td>0.911765</td>\n      <td>0.810811</td>\n      <td>0.731707</td>\n      <td>0.769231</td>\n      <td>82</td>\n      <td>408</td>\n      <td>0.966894</td>\n    </tr>\n    <tr>\n      <th>97</th>\n      <td>HLA-A*24:03</td>\n      <td>0.912338</td>\n      <td>0.786885</td>\n      <td>0.774194</td>\n      <td>0.780488</td>\n      <td>62</td>\n      <td>308</td>\n      <td>0.966890</td>\n    </tr>\n    <tr>\n      <th>49</th>\n      <td>HLA-B*54:01</td>\n      <td>0.918019</td>\n      <td>0.819444</td>\n      <td>0.756410</td>\n      <td>0.786667</td>\n      <td>234</td>\n      <td>1171</td>\n      <td>0.944495</td>\n    </tr>\n    <tr>\n      <th>73</th>\n      <td>HLA-A*69:01</td>\n      <td>0.918410</td>\n      <td>0.822857</td>\n      <td>0.753927</td>\n      <td>0.786885</td>\n      <td>191</td>\n      <td>956</td>\n      <td>0.965021</td>\n    </tr>\n    <tr>\n      <th>95</th>\n      <td>HLA-B*52:01</td>\n      <td>0.914842</td>\n      <td>0.770115</td>\n      <td>0.817073</td>\n      <td>0.792899</td>\n      <td>82</td>\n      <td>411</td>\n      <td>0.956631</td>\n    </tr>\n    <tr>\n      <th>64</th>\n      <td>HLA-A*02:02</td>\n      <td>0.920619</td>\n      <td>0.807107</td>\n      <td>0.793017</td>\n      <td>0.800000</td>\n      <td>401</td>\n      <td>2003</td>\n      <td>0.962727</td>\n    </tr>\n    <tr>\n      <th>90</th>\n      <td>HLA-A*02:16</td>\n      <td>0.927632</td>\n      <td>0.851852</td>\n      <td>0.766667</td>\n      <td>0.807018</td>\n      <td>30</td>\n      <td>152</td>\n      <td>0.940984</td>\n    </tr>\n    <tr>\n      <th>11</th>\n      <td>HLA-A*02:01</td>\n      <td>0.923553</td>\n      <td>0.817174</td>\n      <td>0.797795</td>\n      <td>0.807368</td>\n      <td>4807</td>\n      <td>23938</td>\n      <td>0.957862</td>\n    </tr>\n    <tr>\n      <th>52</th>\n      <td>HLA-B*08:01</td>\n      <td>0.928433</td>\n      <td>0.840149</td>\n      <td>0.793679</td>\n      <td>0.816253</td>\n      <td>1139</td>\n      <td>5687</td>\n      <td>0.967904</td>\n    </tr>\n    <tr>\n      <th>9</th>\n      <td>HLA-A*02:06</td>\n      <td>0.927403</td>\n      <td>0.817509</td>\n      <td>0.820545</td>\n      <td>0.819024</td>\n      <td>808</td>\n      <td>4036</td>\n      <td>0.968174</td>\n    </tr>\n    <tr>\n      <th>89</th>\n      <td>HLA-B*15:02</td>\n      <td>0.928910</td>\n      <td>0.829268</td>\n      <td>0.809524</td>\n      <td>0.819277</td>\n      <td>42</td>\n      <td>211</td>\n      <td>0.976754</td>\n    </tr>\n    <tr>\n      <th>7</th>\n      <td>HLA-A*33:01</td>\n      <td>0.928638</td>\n      <td>0.808889</td>\n      <td>0.842593</td>\n      <td>0.825397</td>\n      <td>216</td>\n      <td>1079</td>\n      <td>0.969824</td>\n    </tr>\n    <tr>\n      <th>2</th>\n      <td>HLA-A*31:01</td>\n      <td>0.931432</td>\n      <td>0.841808</td>\n      <td>0.809783</td>\n      <td>0.825485</td>\n      <td>920</td>\n      <td>4594</td>\n      <td>0.970385</td>\n    </tr>\n    <tr>\n      <th>45</th>\n      <td>HLA-B*53:01</td>\n      <td>0.934351</td>\n      <td>0.866667</td>\n      <td>0.793893</td>\n      <td>0.828685</td>\n      <td>131</td>\n      <td>655</td>\n      <td>0.979401</td>\n    </tr>\n    <tr>\n      <th>39</th>\n      <td>HLA-A*26:01</td>\n      <td>0.933811</td>\n      <td>0.834711</td>\n      <td>0.834711</td>\n      <td>0.834711</td>\n      <td>363</td>\n      <td>1813</td>\n      <td>0.973155</td>\n    </tr>\n    <tr>\n      <th>53</th>\n      <td>HLA-C*15:02</td>\n      <td>0.934714</td>\n      <td>0.841270</td>\n      <td>0.830721</td>\n      <td>0.835962</td>\n      <td>319</td>\n      <td>1593</td>\n      <td>0.979304</td>\n    </tr>\n    <tr>\n      <th>48</th>\n      <td>HLA-B*39:06</td>\n      <td>0.936659</td>\n      <td>0.868085</td>\n      <td>0.806324</td>\n      <td>0.836066</td>\n      <td>253</td>\n      <td>1263</td>\n      <td>0.980198</td>\n    </tr>\n    <tr>\n      <th>44</th>\n      <td>HLA-C*06:02</td>\n      <td>0.936029</td>\n      <td>0.851852</td>\n      <td>0.823691</td>\n      <td>0.837535</td>\n      <td>1089</td>\n      <td>5440</td>\n      <td>0.971853</td>\n    </tr>\n    <tr>\n      <th>85</th>\n      <td>HLA-B*18:03</td>\n      <td>0.943396</td>\n      <td>0.968750</td>\n      <td>0.738095</td>\n      <td>0.837838</td>\n      <td>42</td>\n      <td>212</td>\n      <td>0.970588</td>\n    </tr>\n    <tr>\n      <th>22</th>\n      <td>HLA-B*51:01</td>\n      <td>0.936419</td>\n      <td>0.855497</td>\n      <td>0.821106</td>\n      <td>0.837949</td>\n      <td>995</td>\n      <td>4970</td>\n      <td>0.972300</td>\n    </tr>\n    <tr>\n      <th>25</th>\n      <td>HLA-A*02:12</td>\n      <td>0.934783</td>\n      <td>0.813559</td>\n      <td>0.872727</td>\n      <td>0.842105</td>\n      <td>55</td>\n      <td>276</td>\n      <td>0.972275</td>\n    </tr>\n    <tr>\n      <th>20</th>\n      <td>HLA-A*32:01</td>\n      <td>0.938108</td>\n      <td>0.855842</td>\n      <td>0.830633</td>\n      <td>0.843049</td>\n      <td>679</td>\n      <td>3393</td>\n      <td>0.976810</td>\n    </tr>\n    <tr>\n      <th>40</th>\n      <td>HLA-C*07:01</td>\n      <td>0.938428</td>\n      <td>0.856941</td>\n      <td>0.831044</td>\n      <td>0.843794</td>\n      <td>728</td>\n      <td>3638</td>\n      <td>0.975288</td>\n    </tr>\n    <tr>\n      <th>6</th>\n      <td>HLA-B*35:01</td>\n      <td>0.940170</td>\n      <td>0.879321</td>\n      <td>0.812899</td>\n      <td>0.844807</td>\n      <td>1721</td>\n      <td>8591</td>\n      <td>0.974321</td>\n    </tr>\n    <tr>\n      <th>15</th>\n      <td>HLA-B*27:09</td>\n      <td>0.941614</td>\n      <td>0.892634</td>\n      <td>0.805180</td>\n      <td>0.846655</td>\n      <td>888</td>\n      <td>4436</td>\n      <td>0.968327</td>\n    </tr>\n    <tr>\n      <th>50</th>\n      <td>HLA-C*07:02</td>\n      <td>0.939049</td>\n      <td>0.846667</td>\n      <td>0.849498</td>\n      <td>0.848080</td>\n      <td>598</td>\n      <td>2986</td>\n      <td>0.976788</td>\n    </tr>\n    <tr>\n      <th>18</th>\n      <td>HLA-B*13:02</td>\n      <td>0.938776</td>\n      <td>0.831461</td>\n      <td>0.870588</td>\n      <td>0.850575</td>\n      <td>510</td>\n      <td>2548</td>\n      <td>0.982060</td>\n    </tr>\n    <tr>\n      <th>16</th>\n      <td>HLA-B*46:01</td>\n      <td>0.942108</td>\n      <td>0.872204</td>\n      <td>0.832317</td>\n      <td>0.851794</td>\n      <td>328</td>\n      <td>1641</td>\n      <td>0.977969</td>\n    </tr>\n    <tr>\n      <th>21</th>\n      <td>HLA-A*02:03</td>\n      <td>0.939829</td>\n      <td>0.836562</td>\n      <td>0.869182</td>\n      <td>0.852560</td>\n      <td>795</td>\n      <td>3972</td>\n      <td>0.975178</td>\n    </tr>\n    <tr>\n      <th>33</th>\n      <td>HLA-C*04:01</td>\n      <td>0.942978</td>\n      <td>0.873929</td>\n      <td>0.836066</td>\n      <td>0.854578</td>\n      <td>1708</td>\n      <td>8523</td>\n      <td>0.968201</td>\n    </tr>\n    <tr>\n      <th>92</th>\n      <td>HLA-A*02:19</td>\n      <td>0.939394</td>\n      <td>0.818182</td>\n      <td>0.900000</td>\n      <td>0.857143</td>\n      <td>40</td>\n      <td>198</td>\n      <td>0.968354</td>\n    </tr>\n    <tr>\n      <th>102</th>\n      <td>HLA-A*80:01</td>\n      <td>0.950704</td>\n      <td>1.000000</td>\n      <td>0.750000</td>\n      <td>0.857143</td>\n      <td>28</td>\n      <td>142</td>\n      <td>0.994361</td>\n    </tr>\n    <tr>\n      <th>34</th>\n      <td>HLA-C*03:03</td>\n      <td>0.945510</td>\n      <td>0.860950</td>\n      <td>0.867991</td>\n      <td>0.864456</td>\n      <td>856</td>\n      <td>4276</td>\n      <td>0.982040</td>\n    </tr>\n    <tr>\n      <th>14</th>\n      <td>HLA-C*03:04</td>\n      <td>0.944527</td>\n      <td>0.842353</td>\n      <td>0.889441</td>\n      <td>0.865257</td>\n      <td>805</td>\n      <td>4020</td>\n      <td>0.985194</td>\n    </tr>\n    <tr>\n      <th>42</th>\n      <td>HLA-A*29:02</td>\n      <td>0.946277</td>\n      <td>0.868376</td>\n      <td>0.862479</td>\n      <td>0.865417</td>\n      <td>1178</td>\n      <td>5882</td>\n      <td>0.976690</td>\n    </tr>\n    <tr>\n      <th>13</th>\n      <td>HLA-C*16:01</td>\n      <td>0.945103</td>\n      <td>0.846897</td>\n      <td>0.886003</td>\n      <td>0.866008</td>\n      <td>693</td>\n      <td>3461</td>\n      <td>0.983382</td>\n    </tr>\n    <tr>\n      <th>65</th>\n      <td>HLA-C*07:04</td>\n      <td>0.944935</td>\n      <td>0.842942</td>\n      <td>0.890756</td>\n      <td>0.866190</td>\n      <td>476</td>\n      <td>2379</td>\n      <td>0.982790</td>\n    </tr>\n    <tr>\n      <th>1</th>\n      <td>HLA-B*15:01</td>\n      <td>0.946470</td>\n      <td>0.859170</td>\n      <td>0.876901</td>\n      <td>0.867945</td>\n      <td>2762</td>\n      <td>13768</td>\n      <td>0.978196</td>\n    </tr>\n    <tr>\n      <th>83</th>\n      <td>HLA-A*26:02</td>\n      <td>0.946809</td>\n      <td>0.868421</td>\n      <td>0.868421</td>\n      <td>0.868421</td>\n      <td>38</td>\n      <td>188</td>\n      <td>0.982632</td>\n    </tr>\n    <tr>\n      <th>36</th>\n      <td>HLA-A*03:01</td>\n      <td>0.945671</td>\n      <td>0.840739</td>\n      <td>0.899294</td>\n      <td>0.869031</td>\n      <td>2125</td>\n      <td>10602</td>\n      <td>0.980457</td>\n    </tr>\n    <tr>\n      <th>4</th>\n      <td>HLA-B*57:01</td>\n      <td>0.948095</td>\n      <td>0.869783</td>\n      <td>0.871237</td>\n      <td>0.870510</td>\n      <td>2392</td>\n      <td>11945</td>\n      <td>0.971595</td>\n    </tr>\n    <tr>\n      <th>71</th>\n      <td>HLA-B*39:01</td>\n      <td>0.950113</td>\n      <td>0.902834</td>\n      <td>0.841509</td>\n      <td>0.871094</td>\n      <td>795</td>\n      <td>3969</td>\n      <td>0.983310</td>\n    </tr>\n    <tr>\n      <th>26</th>\n      <td>HLA-A*24:02</td>\n      <td>0.949643</td>\n      <td>0.892328</td>\n      <td>0.851169</td>\n      <td>0.871262</td>\n      <td>1626</td>\n      <td>8122</td>\n      <td>0.971760</td>\n    </tr>\n    <tr>\n      <th>5</th>\n      <td>HLA-C*02:02</td>\n      <td>0.949054</td>\n      <td>0.877101</td>\n      <td>0.867082</td>\n      <td>0.872063</td>\n      <td>963</td>\n      <td>4809</td>\n      <td>0.986391</td>\n    </tr>\n    <tr>\n      <th>80</th>\n      <td>HLA-C*17:01</td>\n      <td>0.948956</td>\n      <td>0.863636</td>\n      <td>0.883721</td>\n      <td>0.873563</td>\n      <td>86</td>\n      <td>431</td>\n      <td>0.983991</td>\n    </tr>\n    <tr>\n      <th>81</th>\n      <td>HLA-C*12:03</td>\n      <td>0.948639</td>\n      <td>0.857143</td>\n      <td>0.891641</td>\n      <td>0.874052</td>\n      <td>323</td>\n      <td>1616</td>\n      <td>0.985119</td>\n    </tr>\n    <tr>\n      <th>76</th>\n      <td>HLA-B*51:08</td>\n      <td>0.951754</td>\n      <td>0.896552</td>\n      <td>0.857143</td>\n      <td>0.876405</td>\n      <td>91</td>\n      <td>456</td>\n      <td>0.983170</td>\n    </tr>\n    <tr>\n      <th>30</th>\n      <td>HLA-C*05:01</td>\n      <td>0.950239</td>\n      <td>0.868597</td>\n      <td>0.885358</td>\n      <td>0.876897</td>\n      <td>881</td>\n      <td>4401</td>\n      <td>0.980917</td>\n    </tr>\n    <tr>\n      <th>17</th>\n      <td>HLA-B*57:03</td>\n      <td>0.951037</td>\n      <td>0.877256</td>\n      <td>0.878313</td>\n      <td>0.877784</td>\n      <td>830</td>\n      <td>4146</td>\n      <td>0.979502</td>\n    </tr>\n    <tr>\n      <th>24</th>\n      <td>HLA-B*14:02</td>\n      <td>0.949248</td>\n      <td>0.847162</td>\n      <td>0.910798</td>\n      <td>0.877828</td>\n      <td>639</td>\n      <td>3192</td>\n      <td>0.987250</td>\n    </tr>\n    <tr>\n      <th>79</th>\n      <td>HLA-A*02:05</td>\n      <td>0.949477</td>\n      <td>0.846316</td>\n      <td>0.913636</td>\n      <td>0.878689</td>\n      <td>440</td>\n      <td>2197</td>\n      <td>0.985937</td>\n    </tr>\n    <tr>\n      <th>47</th>\n      <td>HLA-A*68:01</td>\n      <td>0.950337</td>\n      <td>0.858438</td>\n      <td>0.900512</td>\n      <td>0.878972</td>\n      <td>1367</td>\n      <td>6826</td>\n      <td>0.984919</td>\n    </tr>\n    <tr>\n      <th>72</th>\n      <td>HLA-B*56:01</td>\n      <td>0.949477</td>\n      <td>0.830769</td>\n      <td>0.939130</td>\n      <td>0.881633</td>\n      <td>115</td>\n      <td>574</td>\n      <td>0.982571</td>\n    </tr>\n    <tr>\n      <th>10</th>\n      <td>HLA-B*07:02</td>\n      <td>0.950683</td>\n      <td>0.849144</td>\n      <td>0.916827</td>\n      <td>0.881689</td>\n      <td>2597</td>\n      <td>12957</td>\n      <td>0.983211</td>\n    </tr>\n    <tr>\n      <th>28</th>\n      <td>HLA-B*58:01</td>\n      <td>0.951821</td>\n      <td>0.866013</td>\n      <td>0.898305</td>\n      <td>0.881864</td>\n      <td>885</td>\n      <td>4421</td>\n      <td>0.978602</td>\n    </tr>\n    <tr>\n      <th>38</th>\n      <td>HLA-A*11:01</td>\n      <td>0.951866</td>\n      <td>0.862704</td>\n      <td>0.903581</td>\n      <td>0.882670</td>\n      <td>1815</td>\n      <td>9058</td>\n      <td>0.981558</td>\n    </tr>\n    <tr>\n      <th>68</th>\n      <td>HLA-B*15:18</td>\n      <td>0.953488</td>\n      <td>0.888235</td>\n      <td>0.877907</td>\n      <td>0.883041</td>\n      <td>172</td>\n      <td>860</td>\n      <td>0.987079</td>\n    </tr>\n    <tr>\n      <th>63</th>\n      <td>HLA-B*35:08</td>\n      <td>0.953008</td>\n      <td>0.879070</td>\n      <td>0.887324</td>\n      <td>0.883178</td>\n      <td>213</td>\n      <td>1064</td>\n      <td>0.983284</td>\n    </tr>\n    <tr>\n      <th>69</th>\n      <td>HLA-B*45:01</td>\n      <td>0.953242</td>\n      <td>0.873391</td>\n      <td>0.896476</td>\n      <td>0.884783</td>\n      <td>454</td>\n      <td>2267</td>\n      <td>0.975800</td>\n    </tr>\n    <tr>\n      <th>32</th>\n      <td>HLA-A*02:07</td>\n      <td>0.955155</td>\n      <td>0.894737</td>\n      <td>0.879310</td>\n      <td>0.886957</td>\n      <td>522</td>\n      <td>2609</td>\n      <td>0.982648</td>\n    </tr>\n    <tr>\n      <th>78</th>\n      <td>HLA-B*41:01</td>\n      <td>0.953535</td>\n      <td>0.858491</td>\n      <td>0.919192</td>\n      <td>0.887805</td>\n      <td>99</td>\n      <td>495</td>\n      <td>0.980869</td>\n    </tr>\n    <tr>\n      <th>51</th>\n      <td>HLA-B*35:03</td>\n      <td>0.954574</td>\n      <td>0.860432</td>\n      <td>0.922840</td>\n      <td>0.890544</td>\n      <td>648</td>\n      <td>3236</td>\n      <td>0.990196</td>\n    </tr>\n    <tr>\n      <th>19</th>\n      <td>HLA-A*01:01</td>\n      <td>0.955249</td>\n      <td>0.867598</td>\n      <td>0.916224</td>\n      <td>0.891248</td>\n      <td>1695</td>\n      <td>8469</td>\n      <td>0.986351</td>\n    </tr>\n    <tr>\n      <th>41</th>\n      <td>HLA-C*08:02</td>\n      <td>0.954997</td>\n      <td>0.859982</td>\n      <td>0.926070</td>\n      <td>0.891803</td>\n      <td>1028</td>\n      <td>5133</td>\n      <td>0.986700</td>\n    </tr>\n    <tr>\n      <th>3</th>\n      <td>HLA-B*18:01</td>\n      <td>0.959002</td>\n      <td>0.908467</td>\n      <td>0.884187</td>\n      <td>0.896163</td>\n      <td>449</td>\n      <td>2244</td>\n      <td>0.987034</td>\n    </tr>\n    <tr>\n      <th>75</th>\n      <td>HLA-B*50:01</td>\n      <td>0.959327</td>\n      <td>0.884746</td>\n      <td>0.915789</td>\n      <td>0.900000</td>\n      <td>285</td>\n      <td>1426</td>\n      <td>0.986718</td>\n    </tr>\n    <tr>\n      <th>56</th>\n      <td>HLA-A*02:17</td>\n      <td>0.957082</td>\n      <td>0.836364</td>\n      <td>0.978723</td>\n      <td>0.901961</td>\n      <td>47</td>\n      <td>233</td>\n      <td>0.985244</td>\n    </tr>\n    <tr>\n      <th>57</th>\n      <td>HLA-A*23:01</td>\n      <td>0.960080</td>\n      <td>0.881329</td>\n      <td>0.925249</td>\n      <td>0.902755</td>\n      <td>602</td>\n      <td>3006</td>\n      <td>0.987193</td>\n    </tr>\n    <tr>\n      <th>77</th>\n      <td>HLA-A*25:01</td>\n      <td>0.958333</td>\n      <td>0.826087</td>\n      <td>1.000000</td>\n      <td>0.904762</td>\n      <td>19</td>\n      <td>96</td>\n      <td>0.993165</td>\n    </tr>\n    <tr>\n      <th>88</th>\n      <td>HLA-A*02:20</td>\n      <td>0.961298</td>\n      <td>0.868571</td>\n      <td>0.950000</td>\n      <td>0.907463</td>\n      <td>160</td>\n      <td>801</td>\n      <td>0.992414</td>\n    </tr>\n    <tr>\n      <th>105</th>\n      <td>HLA-B*27:20</td>\n      <td>0.958904</td>\n      <td>0.833333</td>\n      <td>1.000000</td>\n      <td>0.909091</td>\n      <td>15</td>\n      <td>73</td>\n      <td>0.990805</td>\n    </tr>\n    <tr>\n      <th>27</th>\n      <td>HLA-B*27:03</td>\n      <td>0.963338</td>\n      <td>0.881657</td>\n      <td>0.943038</td>\n      <td>0.911315</td>\n      <td>158</td>\n      <td>791</td>\n      <td>0.986452</td>\n    </tr>\n    <tr>\n      <th>55</th>\n      <td>HLA-B*39:24</td>\n      <td>0.965092</td>\n      <td>0.908163</td>\n      <td>0.917526</td>\n      <td>0.912820</td>\n      <td>97</td>\n      <td>487</td>\n      <td>0.992070</td>\n    </tr>\n    <tr>\n      <th>23</th>\n      <td>HLA-B*40:02</td>\n      <td>0.965209</td>\n      <td>0.899035</td>\n      <td>0.930759</td>\n      <td>0.914622</td>\n      <td>1502</td>\n      <td>7502</td>\n      <td>0.989505</td>\n    </tr>\n    <tr>\n      <th>31</th>\n      <td>HLA-A*02:04</td>\n      <td>0.965569</td>\n      <td>0.896057</td>\n      <td>0.936330</td>\n      <td>0.915751</td>\n      <td>267</td>\n      <td>1336</td>\n      <td>0.987212</td>\n    </tr>\n    <tr>\n      <th>91</th>\n      <td>HLA-A*32:15</td>\n      <td>0.965517</td>\n      <td>0.916667</td>\n      <td>0.916667</td>\n      <td>0.916667</td>\n      <td>12</td>\n      <td>58</td>\n      <td>0.998188</td>\n    </tr>\n    <tr>\n      <th>37</th>\n      <td>HLA-B*38:01</td>\n      <td>0.966314</td>\n      <td>0.898618</td>\n      <td>0.937500</td>\n      <td>0.917647</td>\n      <td>624</td>\n      <td>3117</td>\n      <td>0.991187</td>\n    </tr>\n    <tr>\n      <th>29</th>\n      <td>HLA-B*44:02</td>\n      <td>0.967229</td>\n      <td>0.916724</td>\n      <td>0.919890</td>\n      <td>0.918304</td>\n      <td>1448</td>\n      <td>7232</td>\n      <td>0.992015</td>\n    </tr>\n    <tr>\n      <th>58</th>\n      <td>HLA-B*40:01</td>\n      <td>0.966629</td>\n      <td>0.893891</td>\n      <td>0.945578</td>\n      <td>0.919008</td>\n      <td>882</td>\n      <td>4405</td>\n      <td>0.986420</td>\n    </tr>\n    <tr>\n      <th>59</th>\n      <td>HLA-B*27:06</td>\n      <td>0.968220</td>\n      <td>0.911917</td>\n      <td>0.931217</td>\n      <td>0.921466</td>\n      <td>189</td>\n      <td>944</td>\n      <td>0.985592</td>\n    </tr>\n    <tr>\n      <th>35</th>\n      <td>HLA-B*37:01</td>\n      <td>0.967009</td>\n      <td>0.875467</td>\n      <td>0.973684</td>\n      <td>0.921967</td>\n      <td>722</td>\n      <td>3607</td>\n      <td>0.991137</td>\n    </tr>\n    <tr>\n      <th>46</th>\n      <td>HLA-B*27:08</td>\n      <td>0.970267</td>\n      <td>0.924471</td>\n      <td>0.927273</td>\n      <td>0.925870</td>\n      <td>330</td>\n      <td>1648</td>\n      <td>0.990686</td>\n    </tr>\n    <tr>\n      <th>66</th>\n      <td>HLA-B*27:01</td>\n      <td>0.969904</td>\n      <td>0.901454</td>\n      <td>0.953846</td>\n      <td>0.926910</td>\n      <td>585</td>\n      <td>2924</td>\n      <td>0.993507</td>\n    </tr>\n    <tr>\n      <th>67</th>\n      <td>HLA-C*14:02</td>\n      <td>0.970029</td>\n      <td>0.892544</td>\n      <td>0.966746</td>\n      <td>0.928164</td>\n      <td>421</td>\n      <td>2102</td>\n      <td>0.993229</td>\n    </tr>\n    <tr>\n      <th>98</th>\n      <td>HLA-A*32:07</td>\n      <td>0.971429</td>\n      <td>0.928571</td>\n      <td>0.928571</td>\n      <td>0.928571</td>\n      <td>14</td>\n      <td>70</td>\n      <td>0.983418</td>\n    </tr>\n    <tr>\n      <th>12</th>\n      <td>HLA-B*44:03</td>\n      <td>0.972104</td>\n      <td>0.916187</td>\n      <td>0.947324</td>\n      <td>0.931495</td>\n      <td>1177</td>\n      <td>5879</td>\n      <td>0.993915</td>\n    </tr>\n    <tr>\n      <th>54</th>\n      <td>HLA-B*49:01</td>\n      <td>0.974767</td>\n      <td>0.903376</td>\n      <td>0.978562</td>\n      <td>0.939467</td>\n      <td>793</td>\n      <td>3963</td>\n      <td>0.994766</td>\n    </tr>\n    <tr>\n      <th>70</th>\n      <td>HLA-B*27:02</td>\n      <td>0.975294</td>\n      <td>0.916201</td>\n      <td>0.964706</td>\n      <td>0.939828</td>\n      <td>510</td>\n      <td>2550</td>\n      <td>0.994249</td>\n    </tr>\n    <tr>\n      <th>103</th>\n      <td>HLA-B*44:27</td>\n      <td>0.981481</td>\n      <td>0.916667</td>\n      <td>1.000000</td>\n      <td>0.956522</td>\n      <td>11</td>\n      <td>54</td>\n      <td>1.000000</td>\n    </tr>\n    <tr>\n      <th>86</th>\n      <td>HLA-A*24:13</td>\n      <td>0.983051</td>\n      <td>0.958333</td>\n      <td>0.958333</td>\n      <td>0.958333</td>\n      <td>24</td>\n      <td>118</td>\n      <td>0.965426</td>\n    </tr>\n    <tr>\n      <th>94</th>\n      <td>HLA-B*14:01</td>\n      <td>1.000000</td>\n      <td>1.000000</td>\n      <td>1.000000</td>\n      <td>1.000000</td>\n      <td>15</td>\n      <td>76</td>\n      <td>1.000000</td>\n    </tr>\n    <tr>\n      <th>104</th>\n      <td>HLA-A*68:23</td>\n      <td>1.000000</td>\n      <td>1.000000</td>\n      <td>1.000000</td>\n      <td>1.000000</td>\n      <td>13</td>\n      <td>64</td>\n      <td>1.000000</td>\n    </tr>\n  </tbody>\n</table>\n</div>"
     },
     "metadata": {}
    }
   ]
  },
  {
   "cell_type": "code",
   "source": [
    "df_metrics['f1'].hist()"
   ],
   "metadata": {
    "execution": {
     "iopub.status.busy": "2023-07-23T11:01:43.657651Z",
     "iopub.execute_input": "2023-07-23T11:01:43.658282Z",
     "iopub.status.idle": "2023-07-23T11:01:43.938918Z",
     "shell.execute_reply.started": "2023-07-23T11:01:43.658247Z",
     "shell.execute_reply": "2023-07-23T11:01:43.937995Z"
    },
    "trusted": true,
    "pycharm": {
     "name": "#%%\n"
    }
   },
   "execution_count": 101,
   "outputs": [
    {
     "execution_count": 101,
     "output_type": "execute_result",
     "data": {
      "text/plain": "<Axes: >"
     },
     "metadata": {}
    },
    {
     "output_type": "display_data",
     "data": {
      "text/plain": "<Figure size 640x480 with 1 Axes>",
      "image/png": "[encoded data removed]"
     },
     "metadata": {}
    }
   ]
  }
 ]
}